{
  "nbformat": 4,
  "nbformat_minor": 0,
  "metadata": {
    "colab": {
      "name": "resource_evaluator.ipynb",
      "provenance": [],
      "collapsed_sections": []
    },
    "kernelspec": {
      "name": "python3",
      "display_name": "Python 3"
    },
    "language_info": {
      "name": "python"
    }
  },
  "cells": [
    {
      "cell_type": "markdown",
      "source": [
        "# || Import Library ||"
      ],
      "metadata": {
        "id": "uZrcXKIkepNI"
      }
    },
    {
      "cell_type": "code",
      "execution_count": 345,
      "metadata": {
        "id": "3g8u0gpmNSlz"
      },
      "outputs": [],
      "source": [
        "import glob\n",
        "import random\n",
        "import pandas as pd\n",
        "import numpy as np\n",
        "import os\n",
        "from sklearn.model_selection import train_test_split\n",
        "from sklearn.linear_model import LogisticRegression\n",
        "from sklearn.metrics import classification_report\n",
        "from sklearn.metrics import confusion_matrix\n",
        "from sklearn.metrics import accuracy_score"
      ]
    },
    {
      "cell_type": "markdown",
      "source": [
        "# || Supporting Methods ||"
      ],
      "metadata": {
        "id": "0t-_aqBreuv2"
      }
    },
    {
      "cell_type": "code",
      "source": [
        "def get_utilization_result(current_row):\n",
        "    try:\n",
        "        if current_row.between(90, 100).all():\n",
        "            return 1\n",
        "        elif current_row.between(1, 49).all():\n",
        "            return -1\n",
        "        else:\n",
        "            return 0\n",
        "    except:\n",
        "        return random.choice([1, -1, 0])\n"
      ],
      "metadata": {
        "id": "9QUoyUK0NsAg"
      },
      "execution_count": 346,
      "outputs": []
    },
    {
      "cell_type": "code",
      "source": [
        "new_cols = [\"Iteration%s\" % x for x in range(1,21)]\n",
        "def generate_input_file(smart_manager_path):\n",
        "    all_files = glob.glob(os.path.join(smart_manager_path, \"sample-data/*.csv\"))\n",
        "    final_file = os.path.join(smart_manager_path, \"sample-data/sample_input.csv\")\n",
        "    all_files = [x for x in all_files if x != final_file]\n",
        "    new_df = pd.DataFrame(columns=new_cols)\n",
        "    for each_file_path in all_files:\n",
        "        df = pd.read_csv(each_file_path)\n",
        "        for each_col in list(df.columns)[1:]:\n",
        "            tmp_df = pd.DataFrame(df[each_col].values.reshape(-1, 20), columns=new_cols)\n",
        "            new_df = pd.concat([new_df, tmp_df])\n",
        "    range_dict = [(90, 101, 1500), (50, 90, 1003), (1, 50, 1200), (35, 65, 900), (75, 99, 1700), (0, 110, 937)]\n",
        "    for i_ in range(len(range_dict)):\n",
        "        lower_limit, upper_limit, no_of_records = range_dict[i_]\n",
        "        tmp_df = pd.DataFrame(np.random.randint(lower_limit, upper_limit, size=(no_of_records, 20)), columns=new_cols)\n",
        "        new_df = pd.concat([new_df, tmp_df])\n",
        "        mixed_choice = list(range(lower_limit, upper_limit)) + list(\"GAR_B AGE\") + [None, \" \"]\n",
        "        tmp_df2 = pd.DataFrame(np.random.choice(mixed_choice, size=(300, 20)), columns=new_cols)\n",
        "        new_df = pd.concat([new_df, tmp_df2])\n",
        "    new_df = new_df.sample(frac=1)\n",
        "    new_df['utilisation'] = new_df.apply(lambda row: get_utilization_result(row), axis=1)\n",
        "    new_df.to_csv(final_file, index=False)\n",
        "    print(\"Writing Completed\")\n",
        "\n",
        "# generate_input_file(smart_manager_path=\"/content/drive/MyDrive/smart_manager\")"
      ],
      "metadata": {
        "colab": {
          "base_uri": "https://localhost:8080/"
        },
        "id": "BZzJW2YCNsE_",
        "outputId": "a7aa21d0-0198-47ed-c7c3-dd5d4bb86a8f"
      },
      "execution_count": 347,
      "outputs": [
        {
          "output_type": "stream",
          "name": "stdout",
          "text": [
            "Writing Completed\n"
          ]
        }
      ]
    },
    {
      "cell_type": "markdown",
      "source": [
        "# || Analyzing Data || Read the Exported CSV file ||"
      ],
      "metadata": {
        "id": "FaUzfu11mpH6"
      }
    },
    {
      "cell_type": "code",
      "source": [
        "final_file = '/content/drive/MyDrive/smart_manager/sample-data/sample_input.csv'\n",
        "df = pd.read_csv(final_file)\n",
        "df"
      ],
      "metadata": {
        "colab": {
          "base_uri": "https://localhost:8080/",
          "height": 488
        },
        "id": "RhJVfPcyNsJ4",
        "outputId": "cbdff09e-7792-4409-f496-c0b010fc21f4"
      },
      "execution_count": 348,
      "outputs": [
        {
          "output_type": "execute_result",
          "data": {
            "text/html": [
              "\n",
              "  <div id=\"df-b6734ec3-58dd-4498-af07-b26b57f151fe\">\n",
              "    <div class=\"colab-df-container\">\n",
              "      <div>\n",
              "<style scoped>\n",
              "    .dataframe tbody tr th:only-of-type {\n",
              "        vertical-align: middle;\n",
              "    }\n",
              "\n",
              "    .dataframe tbody tr th {\n",
              "        vertical-align: top;\n",
              "    }\n",
              "\n",
              "    .dataframe thead th {\n",
              "        text-align: right;\n",
              "    }\n",
              "</style>\n",
              "<table border=\"1\" class=\"dataframe\">\n",
              "  <thead>\n",
              "    <tr style=\"text-align: right;\">\n",
              "      <th></th>\n",
              "      <th>Iteration1</th>\n",
              "      <th>Iteration2</th>\n",
              "      <th>Iteration3</th>\n",
              "      <th>Iteration4</th>\n",
              "      <th>Iteration5</th>\n",
              "      <th>Iteration6</th>\n",
              "      <th>Iteration7</th>\n",
              "      <th>Iteration8</th>\n",
              "      <th>Iteration9</th>\n",
              "      <th>Iteration10</th>\n",
              "      <th>Iteration11</th>\n",
              "      <th>Iteration12</th>\n",
              "      <th>Iteration13</th>\n",
              "      <th>Iteration14</th>\n",
              "      <th>Iteration15</th>\n",
              "      <th>Iteration16</th>\n",
              "      <th>Iteration17</th>\n",
              "      <th>Iteration18</th>\n",
              "      <th>Iteration19</th>\n",
              "      <th>Iteration20</th>\n",
              "      <th>utilisation</th>\n",
              "    </tr>\n",
              "  </thead>\n",
              "  <tbody>\n",
              "    <tr>\n",
              "      <th>0</th>\n",
              "      <td>52</td>\n",
              "      <td>68</td>\n",
              "      <td>20</td>\n",
              "      <td>85</td>\n",
              "      <td>55</td>\n",
              "      <td>98</td>\n",
              "      <td>100</td>\n",
              "      <td>52</td>\n",
              "      <td>96</td>\n",
              "      <td>54</td>\n",
              "      <td>44</td>\n",
              "      <td>35</td>\n",
              "      <td>39</td>\n",
              "      <td>62</td>\n",
              "      <td>92</td>\n",
              "      <td>80</td>\n",
              "      <td>109</td>\n",
              "      <td>98</td>\n",
              "      <td>31</td>\n",
              "      <td>77</td>\n",
              "      <td>0</td>\n",
              "    </tr>\n",
              "    <tr>\n",
              "      <th>1</th>\n",
              "      <td>95.0</td>\n",
              "      <td>95.0</td>\n",
              "      <td>97.0</td>\n",
              "      <td>90.0</td>\n",
              "      <td>90.0</td>\n",
              "      <td>93.0</td>\n",
              "      <td>90.0</td>\n",
              "      <td>90.0</td>\n",
              "      <td>95.0</td>\n",
              "      <td>91.0</td>\n",
              "      <td>93.0</td>\n",
              "      <td>99.0</td>\n",
              "      <td>100.0</td>\n",
              "      <td>100.0</td>\n",
              "      <td>92.0</td>\n",
              "      <td>97.0</td>\n",
              "      <td>94.0</td>\n",
              "      <td>91.0</td>\n",
              "      <td>92.0</td>\n",
              "      <td>93.0</td>\n",
              "      <td>1</td>\n",
              "    </tr>\n",
              "    <tr>\n",
              "      <th>2</th>\n",
              "      <td>13.4</td>\n",
              "      <td>13.4</td>\n",
              "      <td>13.4</td>\n",
              "      <td>13.4</td>\n",
              "      <td>13.4</td>\n",
              "      <td>13.4</td>\n",
              "      <td>13.4</td>\n",
              "      <td>13.4</td>\n",
              "      <td>13.4</td>\n",
              "      <td>13.4</td>\n",
              "      <td>13.4</td>\n",
              "      <td>13.4</td>\n",
              "      <td>13.4</td>\n",
              "      <td>13.4</td>\n",
              "      <td>13.4</td>\n",
              "      <td>13.4</td>\n",
              "      <td>13.4</td>\n",
              "      <td>13.4</td>\n",
              "      <td>13.4</td>\n",
              "      <td>13.4</td>\n",
              "      <td>-1</td>\n",
              "    </tr>\n",
              "    <tr>\n",
              "      <th>3</th>\n",
              "      <td>6.2</td>\n",
              "      <td>5.1</td>\n",
              "      <td>5.1</td>\n",
              "      <td>5.0</td>\n",
              "      <td>5.6</td>\n",
              "      <td>6.1</td>\n",
              "      <td>7.4</td>\n",
              "      <td>5.1</td>\n",
              "      <td>4.7</td>\n",
              "      <td>5.1</td>\n",
              "      <td>5.5</td>\n",
              "      <td>5.1</td>\n",
              "      <td>8.0</td>\n",
              "      <td>5.0</td>\n",
              "      <td>5.1</td>\n",
              "      <td>5.1</td>\n",
              "      <td>5.2</td>\n",
              "      <td>5.2</td>\n",
              "      <td>7.9</td>\n",
              "      <td>4.9</td>\n",
              "      <td>-1</td>\n",
              "    </tr>\n",
              "    <tr>\n",
              "      <th>4</th>\n",
              "      <td>23</td>\n",
              "      <td>10</td>\n",
              "      <td>17</td>\n",
              "      <td>36</td>\n",
              "      <td>45</td>\n",
              "      <td>73</td>\n",
              "      <td>41</td>\n",
              "      <td>56</td>\n",
              "      <td>9</td>\n",
              "      <td>23</td>\n",
              "      <td></td>\n",
              "      <td>51</td>\n",
              "      <td>24</td>\n",
              "      <td>G</td>\n",
              "      <td>100</td>\n",
              "      <td>40</td>\n",
              "      <td>44</td>\n",
              "      <td>3</td>\n",
              "      <td>36</td>\n",
              "      <td>65</td>\n",
              "      <td>0</td>\n",
              "    </tr>\n",
              "    <tr>\n",
              "      <th>...</th>\n",
              "      <td>...</td>\n",
              "      <td>...</td>\n",
              "      <td>...</td>\n",
              "      <td>...</td>\n",
              "      <td>...</td>\n",
              "      <td>...</td>\n",
              "      <td>...</td>\n",
              "      <td>...</td>\n",
              "      <td>...</td>\n",
              "      <td>...</td>\n",
              "      <td>...</td>\n",
              "      <td>...</td>\n",
              "      <td>...</td>\n",
              "      <td>...</td>\n",
              "      <td>...</td>\n",
              "      <td>...</td>\n",
              "      <td>...</td>\n",
              "      <td>...</td>\n",
              "      <td>...</td>\n",
              "      <td>...</td>\n",
              "      <td>...</td>\n",
              "    </tr>\n",
              "    <tr>\n",
              "      <th>12635</th>\n",
              "      <td>45</td>\n",
              "      <td>44</td>\n",
              "      <td>39</td>\n",
              "      <td>38</td>\n",
              "      <td>63</td>\n",
              "      <td>45</td>\n",
              "      <td>51</td>\n",
              "      <td>43</td>\n",
              "      <td>55</td>\n",
              "      <td>46</td>\n",
              "      <td>51</td>\n",
              "      <td>60</td>\n",
              "      <td>63</td>\n",
              "      <td>50</td>\n",
              "      <td>43</td>\n",
              "      <td>47</td>\n",
              "      <td>62</td>\n",
              "      <td>50</td>\n",
              "      <td>45</td>\n",
              "      <td>47</td>\n",
              "      <td>0</td>\n",
              "    </tr>\n",
              "    <tr>\n",
              "      <th>12636</th>\n",
              "      <td>9</td>\n",
              "      <td>38</td>\n",
              "      <td>2</td>\n",
              "      <td>32</td>\n",
              "      <td>49</td>\n",
              "      <td>44</td>\n",
              "      <td>39</td>\n",
              "      <td>36</td>\n",
              "      <td>21</td>\n",
              "      <td>9</td>\n",
              "      <td>19</td>\n",
              "      <td>7</td>\n",
              "      <td>36</td>\n",
              "      <td>20</td>\n",
              "      <td>43</td>\n",
              "      <td>15</td>\n",
              "      <td>23</td>\n",
              "      <td>8</td>\n",
              "      <td>47</td>\n",
              "      <td>8</td>\n",
              "      <td>-1</td>\n",
              "    </tr>\n",
              "    <tr>\n",
              "      <th>12637</th>\n",
              "      <td>54.9</td>\n",
              "      <td>54.9</td>\n",
              "      <td>54.9</td>\n",
              "      <td>54.9</td>\n",
              "      <td>54.9</td>\n",
              "      <td>54.9</td>\n",
              "      <td>54.9</td>\n",
              "      <td>54.9</td>\n",
              "      <td>54.9</td>\n",
              "      <td>54.9</td>\n",
              "      <td>54.9</td>\n",
              "      <td>54.9</td>\n",
              "      <td>54.9</td>\n",
              "      <td>54.9</td>\n",
              "      <td>54.9</td>\n",
              "      <td>54.9</td>\n",
              "      <td>54.9</td>\n",
              "      <td>54.9</td>\n",
              "      <td>54.9</td>\n",
              "      <td>54.9</td>\n",
              "      <td>0</td>\n",
              "    </tr>\n",
              "    <tr>\n",
              "      <th>12638</th>\n",
              "      <td>54.9</td>\n",
              "      <td>54.9</td>\n",
              "      <td>54.9</td>\n",
              "      <td>54.9</td>\n",
              "      <td>54.9</td>\n",
              "      <td>54.9</td>\n",
              "      <td>54.9</td>\n",
              "      <td>54.9</td>\n",
              "      <td>54.9</td>\n",
              "      <td>54.9</td>\n",
              "      <td>54.9</td>\n",
              "      <td>54.9</td>\n",
              "      <td>54.9</td>\n",
              "      <td>54.9</td>\n",
              "      <td>54.9</td>\n",
              "      <td>54.9</td>\n",
              "      <td>54.9</td>\n",
              "      <td>54.9</td>\n",
              "      <td>54.9</td>\n",
              "      <td>54.9</td>\n",
              "      <td>0</td>\n",
              "    </tr>\n",
              "    <tr>\n",
              "      <th>12639</th>\n",
              "      <td>13</td>\n",
              "      <td>82</td>\n",
              "      <td>73</td>\n",
              "      <td>22</td>\n",
              "      <td>20</td>\n",
              "      <td>5</td>\n",
              "      <td>53</td>\n",
              "      <td>44</td>\n",
              "      <td>21</td>\n",
              "      <td>63</td>\n",
              "      <td>18</td>\n",
              "      <td>8</td>\n",
              "      <td>96</td>\n",
              "      <td>97</td>\n",
              "      <td>56</td>\n",
              "      <td>94</td>\n",
              "      <td>107</td>\n",
              "      <td>94</td>\n",
              "      <td>13</td>\n",
              "      <td>71</td>\n",
              "      <td>0</td>\n",
              "    </tr>\n",
              "  </tbody>\n",
              "</table>\n",
              "<p>12640 rows × 21 columns</p>\n",
              "</div>\n",
              "      <button class=\"colab-df-convert\" onclick=\"convertToInteractive('df-b6734ec3-58dd-4498-af07-b26b57f151fe')\"\n",
              "              title=\"Convert this dataframe to an interactive table.\"\n",
              "              style=\"display:none;\">\n",
              "        \n",
              "  <svg xmlns=\"http://www.w3.org/2000/svg\" height=\"24px\"viewBox=\"0 0 24 24\"\n",
              "       width=\"24px\">\n",
              "    <path d=\"M0 0h24v24H0V0z\" fill=\"none\"/>\n",
              "    <path d=\"M18.56 5.44l.94 2.06.94-2.06 2.06-.94-2.06-.94-.94-2.06-.94 2.06-2.06.94zm-11 1L8.5 8.5l.94-2.06 2.06-.94-2.06-.94L8.5 2.5l-.94 2.06-2.06.94zm10 10l.94 2.06.94-2.06 2.06-.94-2.06-.94-.94-2.06-.94 2.06-2.06.94z\"/><path d=\"M17.41 7.96l-1.37-1.37c-.4-.4-.92-.59-1.43-.59-.52 0-1.04.2-1.43.59L10.3 9.45l-7.72 7.72c-.78.78-.78 2.05 0 2.83L4 21.41c.39.39.9.59 1.41.59.51 0 1.02-.2 1.41-.59l7.78-7.78 2.81-2.81c.8-.78.8-2.07 0-2.86zM5.41 20L4 18.59l7.72-7.72 1.47 1.35L5.41 20z\"/>\n",
              "  </svg>\n",
              "      </button>\n",
              "      \n",
              "  <style>\n",
              "    .colab-df-container {\n",
              "      display:flex;\n",
              "      flex-wrap:wrap;\n",
              "      gap: 12px;\n",
              "    }\n",
              "\n",
              "    .colab-df-convert {\n",
              "      background-color: #E8F0FE;\n",
              "      border: none;\n",
              "      border-radius: 50%;\n",
              "      cursor: pointer;\n",
              "      display: none;\n",
              "      fill: #1967D2;\n",
              "      height: 32px;\n",
              "      padding: 0 0 0 0;\n",
              "      width: 32px;\n",
              "    }\n",
              "\n",
              "    .colab-df-convert:hover {\n",
              "      background-color: #E2EBFA;\n",
              "      box-shadow: 0px 1px 2px rgba(60, 64, 67, 0.3), 0px 1px 3px 1px rgba(60, 64, 67, 0.15);\n",
              "      fill: #174EA6;\n",
              "    }\n",
              "\n",
              "    [theme=dark] .colab-df-convert {\n",
              "      background-color: #3B4455;\n",
              "      fill: #D2E3FC;\n",
              "    }\n",
              "\n",
              "    [theme=dark] .colab-df-convert:hover {\n",
              "      background-color: #434B5C;\n",
              "      box-shadow: 0px 1px 3px 1px rgba(0, 0, 0, 0.15);\n",
              "      filter: drop-shadow(0px 1px 2px rgba(0, 0, 0, 0.3));\n",
              "      fill: #FFFFFF;\n",
              "    }\n",
              "  </style>\n",
              "\n",
              "      <script>\n",
              "        const buttonEl =\n",
              "          document.querySelector('#df-b6734ec3-58dd-4498-af07-b26b57f151fe button.colab-df-convert');\n",
              "        buttonEl.style.display =\n",
              "          google.colab.kernel.accessAllowed ? 'block' : 'none';\n",
              "\n",
              "        async function convertToInteractive(key) {\n",
              "          const element = document.querySelector('#df-b6734ec3-58dd-4498-af07-b26b57f151fe');\n",
              "          const dataTable =\n",
              "            await google.colab.kernel.invokeFunction('convertToInteractive',\n",
              "                                                     [key], {});\n",
              "          if (!dataTable) return;\n",
              "\n",
              "          const docLinkHtml = 'Like what you see? Visit the ' +\n",
              "            '<a target=\"_blank\" href=https://colab.research.google.com/notebooks/data_table.ipynb>data table notebook</a>'\n",
              "            + ' to learn more about interactive tables.';\n",
              "          element.innerHTML = '';\n",
              "          dataTable['output_type'] = 'display_data';\n",
              "          await google.colab.output.renderOutput(dataTable, element);\n",
              "          const docLink = document.createElement('div');\n",
              "          docLink.innerHTML = docLinkHtml;\n",
              "          element.appendChild(docLink);\n",
              "        }\n",
              "      </script>\n",
              "    </div>\n",
              "  </div>\n",
              "  "
            ],
            "text/plain": [
              "      Iteration1 Iteration2 Iteration3  ... Iteration19 Iteration20 utilisation\n",
              "0             52         68         20  ...          31          77           0\n",
              "1           95.0       95.0       97.0  ...        92.0        93.0           1\n",
              "2           13.4       13.4       13.4  ...        13.4        13.4          -1\n",
              "3            6.2        5.1        5.1  ...         7.9         4.9          -1\n",
              "4             23         10         17  ...          36          65           0\n",
              "...          ...        ...        ...  ...         ...         ...         ...\n",
              "12635         45         44         39  ...          45          47           0\n",
              "12636          9         38          2  ...          47           8          -1\n",
              "12637       54.9       54.9       54.9  ...        54.9        54.9           0\n",
              "12638       54.9       54.9       54.9  ...        54.9        54.9           0\n",
              "12639         13         82         73  ...          13          71           0\n",
              "\n",
              "[12640 rows x 21 columns]"
            ]
          },
          "metadata": {},
          "execution_count": 348
        }
      ]
    },
    {
      "cell_type": "markdown",
      "source": [
        "# || Data Wrangling is to remove null or [ _ ] or empty data, cleaning data set ||"
      ],
      "metadata": {
        "id": "pz0lEg3Dn7cK"
      }
    },
    {
      "cell_type": "code",
      "source": [
        "df.info()"
      ],
      "metadata": {
        "colab": {
          "base_uri": "https://localhost:8080/"
        },
        "id": "5qkv8hGdPfYi",
        "outputId": "11d3666d-730c-4a74-acac-066e0057e538"
      },
      "execution_count": 349,
      "outputs": [
        {
          "output_type": "stream",
          "name": "stdout",
          "text": [
            "<class 'pandas.core.frame.DataFrame'>\n",
            "RangeIndex: 12640 entries, 0 to 12639\n",
            "Data columns (total 21 columns):\n",
            " #   Column       Non-Null Count  Dtype \n",
            "---  ------       --------------  ----- \n",
            " 0   Iteration1   12595 non-null  object\n",
            " 1   Iteration2   12601 non-null  object\n",
            " 2   Iteration3   12605 non-null  object\n",
            " 3   Iteration4   12594 non-null  object\n",
            " 4   Iteration5   12590 non-null  object\n",
            " 5   Iteration6   12602 non-null  object\n",
            " 6   Iteration7   12593 non-null  object\n",
            " 7   Iteration8   12597 non-null  object\n",
            " 8   Iteration9   12599 non-null  object\n",
            " 9   Iteration10  12590 non-null  object\n",
            " 10  Iteration11  12599 non-null  object\n",
            " 11  Iteration12  12601 non-null  object\n",
            " 12  Iteration13  12584 non-null  object\n",
            " 13  Iteration14  12596 non-null  object\n",
            " 14  Iteration15  12594 non-null  object\n",
            " 15  Iteration16  12596 non-null  object\n",
            " 16  Iteration17  12598 non-null  object\n",
            " 17  Iteration18  12589 non-null  object\n",
            " 18  Iteration19  12588 non-null  object\n",
            " 19  Iteration20  12601 non-null  object\n",
            " 20  utilisation  12640 non-null  int64 \n",
            "dtypes: int64(1), object(20)\n",
            "memory usage: 2.0+ MB\n"
          ]
        }
      ]
    },
    {
      "cell_type": "code",
      "source": [
        "print(\"Before Cleanups\")\n",
        "df.isnull().sum()"
      ],
      "metadata": {
        "colab": {
          "base_uri": "https://localhost:8080/"
        },
        "id": "w8mrxxbFNsOA",
        "outputId": "cc4e8500-163b-434e-8075-49c2b39cdbc4"
      },
      "execution_count": 350,
      "outputs": [
        {
          "output_type": "stream",
          "name": "stdout",
          "text": [
            "Before Cleanups\n"
          ]
        },
        {
          "output_type": "execute_result",
          "data": {
            "text/plain": [
              "Iteration1     45\n",
              "Iteration2     39\n",
              "Iteration3     35\n",
              "Iteration4     46\n",
              "Iteration5     50\n",
              "Iteration6     38\n",
              "Iteration7     47\n",
              "Iteration8     43\n",
              "Iteration9     41\n",
              "Iteration10    50\n",
              "Iteration11    41\n",
              "Iteration12    39\n",
              "Iteration13    56\n",
              "Iteration14    44\n",
              "Iteration15    46\n",
              "Iteration16    44\n",
              "Iteration17    42\n",
              "Iteration18    51\n",
              "Iteration19    52\n",
              "Iteration20    39\n",
              "utilisation     0\n",
              "dtype: int64"
            ]
          },
          "metadata": {},
          "execution_count": 350
        }
      ]
    },
    {
      "cell_type": "markdown",
      "source": [
        "# || DROP Rows containing SPACE, EMPTY-STRINGS, UNDERSCORE, GARBAGE-CHARACTERS ||\n"
      ],
      "metadata": {
        "id": "NBirlZLkqCIO"
      }
    },
    {
      "cell_type": "markdown",
      "source": [
        "### UNDERSCORE DROPS"
      ],
      "metadata": {
        "id": "y0Mha0kPy3bK"
      }
    },
    {
      "cell_type": "code",
      "source": [
        "old = int(df.shape[0])\n",
        "print(\"Rows Before UNDERSCORE Drops: %s\" % df.shape[0])\n",
        "for each_col in new_cols:\n",
        "    df = df[df[each_col] != \"_\"]\n",
        "print(\"Rows After UNDERSCORE Drops: %s\" % df.shape[0])\n",
        "print(\"Total Rows Dropped with UNDERSCORE: %s\" % int(old - df.shape[0]))"
      ],
      "metadata": {
        "colab": {
          "base_uri": "https://localhost:8080/"
        },
        "id": "ukSqpKr51oaR",
        "outputId": "4858b8a1-2037-4119-f164-9a852aa44a26"
      },
      "execution_count": 351,
      "outputs": [
        {
          "output_type": "stream",
          "name": "stdout",
          "text": [
            "Rows Before UNDERSCORE Drops: 12640\n",
            "Rows After UNDERSCORE Drops: 11969\n",
            "Total Rows Dropped with UNDERSCORE: 671\n"
          ]
        }
      ]
    },
    {
      "cell_type": "markdown",
      "source": [
        "### SPACE DROPS"
      ],
      "metadata": {
        "id": "5OWghKeDy7Wa"
      }
    },
    {
      "cell_type": "code",
      "source": [
        "old = int(df.shape[0])\n",
        "print(\"Rows Before SPACE Drops: %s\" % df.shape[0])\n",
        "for each_col in new_cols:\n",
        "    df = df[df[each_col] != \" \"]\n",
        "print(\"Rows After SPACE Drops: %s\" % df.shape[0])\n",
        "print(\"Total Rows Dropped with SPACE: %s\" % int(old - df.shape[0]))"
      ],
      "metadata": {
        "colab": {
          "base_uri": "https://localhost:8080/"
        },
        "id": "BXXvZQ1f8ElJ",
        "outputId": "d2a1a841-b801-44f4-bff0-0e766c76494c"
      },
      "execution_count": 352,
      "outputs": [
        {
          "output_type": "stream",
          "name": "stdout",
          "text": [
            "Rows Before SPACE Drops: 11969\n",
            "Rows After SPACE Drops: 11323\n",
            "Total Rows Dropped with SPACE: 646\n"
          ]
        }
      ]
    },
    {
      "cell_type": "markdown",
      "source": [
        "### NaN DROPS"
      ],
      "metadata": {
        "id": "GTIsFJ-Hy_sg"
      }
    },
    {
      "cell_type": "code",
      "source": [
        "print(\"Dropping NaN\")\n",
        "df[pd.isnull(df).any(axis=1)]"
      ],
      "metadata": {
        "colab": {
          "base_uri": "https://localhost:8080/",
          "height": 505
        },
        "id": "hKgZWkDI7I-c",
        "outputId": "e79647c2-e45e-4c5b-90f2-2aba2f9fa2e4"
      },
      "execution_count": 353,
      "outputs": [
        {
          "output_type": "stream",
          "name": "stdout",
          "text": [
            "Dropping NaN\n"
          ]
        },
        {
          "output_type": "execute_result",
          "data": {
            "text/html": [
              "\n",
              "  <div id=\"df-fc173a6e-e873-47b5-8091-d5fb7994c05b\">\n",
              "    <div class=\"colab-df-container\">\n",
              "      <div>\n",
              "<style scoped>\n",
              "    .dataframe tbody tr th:only-of-type {\n",
              "        vertical-align: middle;\n",
              "    }\n",
              "\n",
              "    .dataframe tbody tr th {\n",
              "        vertical-align: top;\n",
              "    }\n",
              "\n",
              "    .dataframe thead th {\n",
              "        text-align: right;\n",
              "    }\n",
              "</style>\n",
              "<table border=\"1\" class=\"dataframe\">\n",
              "  <thead>\n",
              "    <tr style=\"text-align: right;\">\n",
              "      <th></th>\n",
              "      <th>Iteration1</th>\n",
              "      <th>Iteration2</th>\n",
              "      <th>Iteration3</th>\n",
              "      <th>Iteration4</th>\n",
              "      <th>Iteration5</th>\n",
              "      <th>Iteration6</th>\n",
              "      <th>Iteration7</th>\n",
              "      <th>Iteration8</th>\n",
              "      <th>Iteration9</th>\n",
              "      <th>Iteration10</th>\n",
              "      <th>Iteration11</th>\n",
              "      <th>Iteration12</th>\n",
              "      <th>Iteration13</th>\n",
              "      <th>Iteration14</th>\n",
              "      <th>Iteration15</th>\n",
              "      <th>Iteration16</th>\n",
              "      <th>Iteration17</th>\n",
              "      <th>Iteration18</th>\n",
              "      <th>Iteration19</th>\n",
              "      <th>Iteration20</th>\n",
              "      <th>utilisation</th>\n",
              "    </tr>\n",
              "  </thead>\n",
              "  <tbody>\n",
              "    <tr>\n",
              "      <th>34</th>\n",
              "      <td>73</td>\n",
              "      <td>80</td>\n",
              "      <td>63</td>\n",
              "      <td>56</td>\n",
              "      <td>50</td>\n",
              "      <td>50</td>\n",
              "      <td>G</td>\n",
              "      <td>54</td>\n",
              "      <td>53</td>\n",
              "      <td>55</td>\n",
              "      <td>87</td>\n",
              "      <td>56</td>\n",
              "      <td>50</td>\n",
              "      <td>78</td>\n",
              "      <td>74</td>\n",
              "      <td>55</td>\n",
              "      <td>NaN</td>\n",
              "      <td>73</td>\n",
              "      <td>NaN</td>\n",
              "      <td>76</td>\n",
              "      <td>0</td>\n",
              "    </tr>\n",
              "    <tr>\n",
              "      <th>45</th>\n",
              "      <td>38</td>\n",
              "      <td>NaN</td>\n",
              "      <td>59</td>\n",
              "      <td>55</td>\n",
              "      <td>43</td>\n",
              "      <td>36</td>\n",
              "      <td>59</td>\n",
              "      <td>47</td>\n",
              "      <td>59</td>\n",
              "      <td>39</td>\n",
              "      <td>57</td>\n",
              "      <td>45</td>\n",
              "      <td>49</td>\n",
              "      <td>51</td>\n",
              "      <td>37</td>\n",
              "      <td>53</td>\n",
              "      <td>59</td>\n",
              "      <td>59</td>\n",
              "      <td>44</td>\n",
              "      <td>53</td>\n",
              "      <td>0</td>\n",
              "    </tr>\n",
              "    <tr>\n",
              "      <th>50</th>\n",
              "      <td>91</td>\n",
              "      <td>74</td>\n",
              "      <td>54</td>\n",
              "      <td>100</td>\n",
              "      <td>NaN</td>\n",
              "      <td>38</td>\n",
              "      <td>55</td>\n",
              "      <td>32</td>\n",
              "      <td>36</td>\n",
              "      <td>82</td>\n",
              "      <td>18</td>\n",
              "      <td>32</td>\n",
              "      <td>29</td>\n",
              "      <td>24</td>\n",
              "      <td>73</td>\n",
              "      <td>38</td>\n",
              "      <td>55</td>\n",
              "      <td>2</td>\n",
              "      <td>25</td>\n",
              "      <td>71</td>\n",
              "      <td>0</td>\n",
              "    </tr>\n",
              "    <tr>\n",
              "      <th>93</th>\n",
              "      <td>12</td>\n",
              "      <td>44</td>\n",
              "      <td>26</td>\n",
              "      <td>81</td>\n",
              "      <td>NaN</td>\n",
              "      <td>90</td>\n",
              "      <td>84</td>\n",
              "      <td>104</td>\n",
              "      <td>3</td>\n",
              "      <td>6</td>\n",
              "      <td>49</td>\n",
              "      <td>79</td>\n",
              "      <td>55</td>\n",
              "      <td>97</td>\n",
              "      <td>53</td>\n",
              "      <td>57</td>\n",
              "      <td>31</td>\n",
              "      <td>26</td>\n",
              "      <td>95</td>\n",
              "      <td>26</td>\n",
              "      <td>0</td>\n",
              "    </tr>\n",
              "    <tr>\n",
              "      <th>104</th>\n",
              "      <td>98</td>\n",
              "      <td>95</td>\n",
              "      <td>91</td>\n",
              "      <td>NaN</td>\n",
              "      <td>96</td>\n",
              "      <td>96</td>\n",
              "      <td>E</td>\n",
              "      <td>92</td>\n",
              "      <td>94</td>\n",
              "      <td>98</td>\n",
              "      <td>93</td>\n",
              "      <td>99</td>\n",
              "      <td>E</td>\n",
              "      <td>G</td>\n",
              "      <td>100</td>\n",
              "      <td>A</td>\n",
              "      <td>95</td>\n",
              "      <td>A</td>\n",
              "      <td>G</td>\n",
              "      <td>G</td>\n",
              "      <td>0</td>\n",
              "    </tr>\n",
              "    <tr>\n",
              "      <th>...</th>\n",
              "      <td>...</td>\n",
              "      <td>...</td>\n",
              "      <td>...</td>\n",
              "      <td>...</td>\n",
              "      <td>...</td>\n",
              "      <td>...</td>\n",
              "      <td>...</td>\n",
              "      <td>...</td>\n",
              "      <td>...</td>\n",
              "      <td>...</td>\n",
              "      <td>...</td>\n",
              "      <td>...</td>\n",
              "      <td>...</td>\n",
              "      <td>...</td>\n",
              "      <td>...</td>\n",
              "      <td>...</td>\n",
              "      <td>...</td>\n",
              "      <td>...</td>\n",
              "      <td>...</td>\n",
              "      <td>...</td>\n",
              "      <td>...</td>\n",
              "    </tr>\n",
              "    <tr>\n",
              "      <th>12213</th>\n",
              "      <td>41</td>\n",
              "      <td>40</td>\n",
              "      <td>48</td>\n",
              "      <td>43</td>\n",
              "      <td>45</td>\n",
              "      <td>NaN</td>\n",
              "      <td>R</td>\n",
              "      <td>A</td>\n",
              "      <td>59</td>\n",
              "      <td>56</td>\n",
              "      <td>R</td>\n",
              "      <td>46</td>\n",
              "      <td>45</td>\n",
              "      <td>47</td>\n",
              "      <td>53</td>\n",
              "      <td>A</td>\n",
              "      <td>52</td>\n",
              "      <td>A</td>\n",
              "      <td>63</td>\n",
              "      <td>59</td>\n",
              "      <td>0</td>\n",
              "    </tr>\n",
              "    <tr>\n",
              "      <th>12221</th>\n",
              "      <td>36</td>\n",
              "      <td>8</td>\n",
              "      <td>NaN</td>\n",
              "      <td>62</td>\n",
              "      <td>106</td>\n",
              "      <td>17</td>\n",
              "      <td>46</td>\n",
              "      <td>87</td>\n",
              "      <td>31</td>\n",
              "      <td>40</td>\n",
              "      <td>41</td>\n",
              "      <td>57</td>\n",
              "      <td>60</td>\n",
              "      <td>93</td>\n",
              "      <td>66</td>\n",
              "      <td>1</td>\n",
              "      <td>23</td>\n",
              "      <td>90</td>\n",
              "      <td>80</td>\n",
              "      <td>21</td>\n",
              "      <td>0</td>\n",
              "    </tr>\n",
              "    <tr>\n",
              "      <th>12473</th>\n",
              "      <td>88</td>\n",
              "      <td>79</td>\n",
              "      <td>96</td>\n",
              "      <td>95</td>\n",
              "      <td>G</td>\n",
              "      <td>88</td>\n",
              "      <td>88</td>\n",
              "      <td>78</td>\n",
              "      <td>92</td>\n",
              "      <td>88</td>\n",
              "      <td>A</td>\n",
              "      <td>77</td>\n",
              "      <td>G</td>\n",
              "      <td>A</td>\n",
              "      <td>91</td>\n",
              "      <td>84</td>\n",
              "      <td>95</td>\n",
              "      <td>NaN</td>\n",
              "      <td>81</td>\n",
              "      <td>97</td>\n",
              "      <td>-1</td>\n",
              "    </tr>\n",
              "    <tr>\n",
              "      <th>12613</th>\n",
              "      <td>32</td>\n",
              "      <td>A</td>\n",
              "      <td>R</td>\n",
              "      <td>NaN</td>\n",
              "      <td>46</td>\n",
              "      <td>45</td>\n",
              "      <td>27</td>\n",
              "      <td>25</td>\n",
              "      <td>46</td>\n",
              "      <td>24</td>\n",
              "      <td>38</td>\n",
              "      <td>17</td>\n",
              "      <td>18</td>\n",
              "      <td>44</td>\n",
              "      <td>E</td>\n",
              "      <td>47</td>\n",
              "      <td>46</td>\n",
              "      <td>R</td>\n",
              "      <td>19</td>\n",
              "      <td>B</td>\n",
              "      <td>-1</td>\n",
              "    </tr>\n",
              "    <tr>\n",
              "      <th>12628</th>\n",
              "      <td>61</td>\n",
              "      <td>48</td>\n",
              "      <td>29</td>\n",
              "      <td>70</td>\n",
              "      <td>24</td>\n",
              "      <td>36</td>\n",
              "      <td>77</td>\n",
              "      <td>69</td>\n",
              "      <td>26</td>\n",
              "      <td>17</td>\n",
              "      <td>99</td>\n",
              "      <td>91</td>\n",
              "      <td>52</td>\n",
              "      <td>32</td>\n",
              "      <td>2</td>\n",
              "      <td>NaN</td>\n",
              "      <td>82</td>\n",
              "      <td>47</td>\n",
              "      <td>19</td>\n",
              "      <td>77</td>\n",
              "      <td>0</td>\n",
              "    </tr>\n",
              "  </tbody>\n",
              "</table>\n",
              "<p>147 rows × 21 columns</p>\n",
              "</div>\n",
              "      <button class=\"colab-df-convert\" onclick=\"convertToInteractive('df-fc173a6e-e873-47b5-8091-d5fb7994c05b')\"\n",
              "              title=\"Convert this dataframe to an interactive table.\"\n",
              "              style=\"display:none;\">\n",
              "        \n",
              "  <svg xmlns=\"http://www.w3.org/2000/svg\" height=\"24px\"viewBox=\"0 0 24 24\"\n",
              "       width=\"24px\">\n",
              "    <path d=\"M0 0h24v24H0V0z\" fill=\"none\"/>\n",
              "    <path d=\"M18.56 5.44l.94 2.06.94-2.06 2.06-.94-2.06-.94-.94-2.06-.94 2.06-2.06.94zm-11 1L8.5 8.5l.94-2.06 2.06-.94-2.06-.94L8.5 2.5l-.94 2.06-2.06.94zm10 10l.94 2.06.94-2.06 2.06-.94-2.06-.94-.94-2.06-.94 2.06-2.06.94z\"/><path d=\"M17.41 7.96l-1.37-1.37c-.4-.4-.92-.59-1.43-.59-.52 0-1.04.2-1.43.59L10.3 9.45l-7.72 7.72c-.78.78-.78 2.05 0 2.83L4 21.41c.39.39.9.59 1.41.59.51 0 1.02-.2 1.41-.59l7.78-7.78 2.81-2.81c.8-.78.8-2.07 0-2.86zM5.41 20L4 18.59l7.72-7.72 1.47 1.35L5.41 20z\"/>\n",
              "  </svg>\n",
              "      </button>\n",
              "      \n",
              "  <style>\n",
              "    .colab-df-container {\n",
              "      display:flex;\n",
              "      flex-wrap:wrap;\n",
              "      gap: 12px;\n",
              "    }\n",
              "\n",
              "    .colab-df-convert {\n",
              "      background-color: #E8F0FE;\n",
              "      border: none;\n",
              "      border-radius: 50%;\n",
              "      cursor: pointer;\n",
              "      display: none;\n",
              "      fill: #1967D2;\n",
              "      height: 32px;\n",
              "      padding: 0 0 0 0;\n",
              "      width: 32px;\n",
              "    }\n",
              "\n",
              "    .colab-df-convert:hover {\n",
              "      background-color: #E2EBFA;\n",
              "      box-shadow: 0px 1px 2px rgba(60, 64, 67, 0.3), 0px 1px 3px 1px rgba(60, 64, 67, 0.15);\n",
              "      fill: #174EA6;\n",
              "    }\n",
              "\n",
              "    [theme=dark] .colab-df-convert {\n",
              "      background-color: #3B4455;\n",
              "      fill: #D2E3FC;\n",
              "    }\n",
              "\n",
              "    [theme=dark] .colab-df-convert:hover {\n",
              "      background-color: #434B5C;\n",
              "      box-shadow: 0px 1px 3px 1px rgba(0, 0, 0, 0.15);\n",
              "      filter: drop-shadow(0px 1px 2px rgba(0, 0, 0, 0.3));\n",
              "      fill: #FFFFFF;\n",
              "    }\n",
              "  </style>\n",
              "\n",
              "      <script>\n",
              "        const buttonEl =\n",
              "          document.querySelector('#df-fc173a6e-e873-47b5-8091-d5fb7994c05b button.colab-df-convert');\n",
              "        buttonEl.style.display =\n",
              "          google.colab.kernel.accessAllowed ? 'block' : 'none';\n",
              "\n",
              "        async function convertToInteractive(key) {\n",
              "          const element = document.querySelector('#df-fc173a6e-e873-47b5-8091-d5fb7994c05b');\n",
              "          const dataTable =\n",
              "            await google.colab.kernel.invokeFunction('convertToInteractive',\n",
              "                                                     [key], {});\n",
              "          if (!dataTable) return;\n",
              "\n",
              "          const docLinkHtml = 'Like what you see? Visit the ' +\n",
              "            '<a target=\"_blank\" href=https://colab.research.google.com/notebooks/data_table.ipynb>data table notebook</a>'\n",
              "            + ' to learn more about interactive tables.';\n",
              "          element.innerHTML = '';\n",
              "          dataTable['output_type'] = 'display_data';\n",
              "          await google.colab.output.renderOutput(dataTable, element);\n",
              "          const docLink = document.createElement('div');\n",
              "          docLink.innerHTML = docLinkHtml;\n",
              "          element.appendChild(docLink);\n",
              "        }\n",
              "      </script>\n",
              "    </div>\n",
              "  </div>\n",
              "  "
            ],
            "text/plain": [
              "      Iteration1 Iteration2 Iteration3  ... Iteration19 Iteration20 utilisation\n",
              "34            73         80         63  ...         NaN          76           0\n",
              "45            38        NaN         59  ...          44          53           0\n",
              "50            91         74         54  ...          25          71           0\n",
              "93            12         44         26  ...          95          26           0\n",
              "104           98         95         91  ...           G           G           0\n",
              "...          ...        ...        ...  ...         ...         ...         ...\n",
              "12213         41         40         48  ...          63          59           0\n",
              "12221         36          8        NaN  ...          80          21           0\n",
              "12473         88         79         96  ...          81          97          -1\n",
              "12613         32          A          R  ...          19           B          -1\n",
              "12628         61         48         29  ...          19          77           0\n",
              "\n",
              "[147 rows x 21 columns]"
            ]
          },
          "metadata": {},
          "execution_count": 353
        }
      ]
    },
    {
      "cell_type": "code",
      "source": [
        "old = int(df.shape[0])\n",
        "print(\"Rows Before NaN Drops: %s\" % df.shape[0])\n",
        "df.dropna(subset=new_cols, axis=0, inplace=True)\n",
        "print(\"Rows After NaN Drops: %s\" % df.shape[0])\n",
        "print(\"Total Rows Dropped with NaN: %s\" % int(old - df.shape[0]))"
      ],
      "metadata": {
        "colab": {
          "base_uri": "https://localhost:8080/"
        },
        "id": "AziMNm0cqBz6",
        "outputId": "13256261-ff2d-4636-992f-91e132f0f342"
      },
      "execution_count": 354,
      "outputs": [
        {
          "output_type": "stream",
          "name": "stdout",
          "text": [
            "Rows Before NaN Drops: 11323\n",
            "Rows After NaN Drops: 11176\n",
            "Total Rows Dropped with NaN: 147\n"
          ]
        }
      ]
    },
    {
      "cell_type": "code",
      "source": [
        "print(\"After NA Drops\")\n",
        "df.isnull().sum()"
      ],
      "metadata": {
        "colab": {
          "base_uri": "https://localhost:8080/"
        },
        "id": "aEQntmt1tUMs",
        "outputId": "51d478f8-459f-40fd-bbfa-5197494c6980"
      },
      "execution_count": 355,
      "outputs": [
        {
          "output_type": "stream",
          "name": "stdout",
          "text": [
            "After NA Drops\n"
          ]
        },
        {
          "output_type": "execute_result",
          "data": {
            "text/plain": [
              "Iteration1     0\n",
              "Iteration2     0\n",
              "Iteration3     0\n",
              "Iteration4     0\n",
              "Iteration5     0\n",
              "Iteration6     0\n",
              "Iteration7     0\n",
              "Iteration8     0\n",
              "Iteration9     0\n",
              "Iteration10    0\n",
              "Iteration11    0\n",
              "Iteration12    0\n",
              "Iteration13    0\n",
              "Iteration14    0\n",
              "Iteration15    0\n",
              "Iteration16    0\n",
              "Iteration17    0\n",
              "Iteration18    0\n",
              "Iteration19    0\n",
              "Iteration20    0\n",
              "utilisation    0\n",
              "dtype: int64"
            ]
          },
          "metadata": {},
          "execution_count": 355
        }
      ]
    },
    {
      "cell_type": "markdown",
      "source": [
        "### DUPLICATE DROPS"
      ],
      "metadata": {
        "id": "xUd0d9eezD_3"
      }
    },
    {
      "cell_type": "code",
      "source": [
        "old = int(df.shape[0])\n",
        "print(\"Rows Before DUPLICATE Drops: %s\" % df.shape[0])\n",
        "df = df.drop_duplicates(subset=new_cols)\n",
        "print(\"Rows After DUPLICATE Drops: %s\" % df.shape[0])\n",
        "print(\"Total DUPLICATE Rows Dropped : %s\" % int(old - df.shape[0]))"
      ],
      "metadata": {
        "colab": {
          "base_uri": "https://localhost:8080/"
        },
        "id": "nVFtqnk6NsR-",
        "outputId": "750c5ba8-5d65-43f9-8c79-3d9a15d253c7"
      },
      "execution_count": 356,
      "outputs": [
        {
          "output_type": "stream",
          "name": "stdout",
          "text": [
            "Rows Before DUPLICATE Drops: 11176\n",
            "Rows After DUPLICATE Drops: 9205\n",
            "Total DUPLICATE Rows Dropped : 1971\n"
          ]
        }
      ]
    },
    {
      "cell_type": "markdown",
      "source": [
        "### GARBAGE CHARACTER DROPS"
      ],
      "metadata": {
        "id": "NtIQe_ttzHMS"
      }
    },
    {
      "cell_type": "code",
      "source": [
        "old = int(df.shape[0])\n",
        "print(\"Rows Before CHARACTER Drops: %s\" % df.shape[0])\n",
        "for each_col in new_cols:\n",
        "    df = df[df[each_col].apply(lambda x: str(x).replace(\".\", \"\", 1).isdigit())]\n",
        "print(\"Rows After CHARACTER Drops: %s\" % df.shape[0])\n",
        "print(\"Total Rows Dropped with CHARACTER: %s\" % int(old - df.shape[0]))"
      ],
      "metadata": {
        "colab": {
          "base_uri": "https://localhost:8080/"
        },
        "id": "ulYpDHRBNsWd",
        "outputId": "d313dd06-5358-4d77-f56c-d355fd09b8e7"
      },
      "execution_count": 357,
      "outputs": [
        {
          "output_type": "stream",
          "name": "stdout",
          "text": [
            "Rows Before CHARACTER Drops: 9205\n",
            "Rows After CHARACTER Drops: 8921\n",
            "Total Rows Dropped with CHARACTER: 284\n"
          ]
        }
      ]
    },
    {
      "cell_type": "markdown",
      "source": [
        "# || Convert Whole Data to Numerics ||"
      ],
      "metadata": {
        "id": "6h3o74Xjk1tG"
      }
    },
    {
      "cell_type": "code",
      "source": [
        "df = df.apply(pd.to_numeric, errors='raise')"
      ],
      "metadata": {
        "id": "v2oSi2uaNsbD"
      },
      "execution_count": 358,
      "outputs": []
    },
    {
      "cell_type": "markdown",
      "source": [
        "# || Filter invalid Data of percentage more than 100% ||"
      ],
      "metadata": {
        "id": "70NUStkAiWmS"
      }
    },
    {
      "cell_type": "code",
      "source": [
        "old = int(df.shape[0])\n",
        "print(\"Rows Before INVALID Drops: %s\" % df.shape[0])\n",
        "for each_col in new_cols:\n",
        "    df = df[df[each_col].apply(lambda x: x <= 100)]\n",
        "print(\"Rows After INVALID Drops: %s\" % df.shape[0])\n",
        "print(\"Total Rows Dropped with INVALID: %s\" % int(old - df.shape[0]))"
      ],
      "metadata": {
        "colab": {
          "base_uri": "https://localhost:8080/"
        },
        "id": "wmskfvpTNsfr",
        "outputId": "87283f8c-92ee-46de-9479-2af40aee7e2a"
      },
      "execution_count": 359,
      "outputs": [
        {
          "output_type": "stream",
          "name": "stdout",
          "text": [
            "Rows Before INVALID Drops: 8921\n",
            "Rows After INVALID Drops: 8091\n",
            "Total Rows Dropped with INVALID: 830\n"
          ]
        }
      ]
    },
    {
      "cell_type": "markdown",
      "source": [
        "\n",
        "# ||Train and Test ||"
      ],
      "metadata": {
        "id": "R7zBPIUjnLdb"
      }
    },
    {
      "cell_type": "markdown",
      "source": [
        "\n",
        "### Divide appropriate Columns"
      ],
      "metadata": {
        "id": "ZnqG4hanzbZe"
      }
    },
    {
      "cell_type": "code",
      "source": [
        "df.head(5)"
      ],
      "metadata": {
        "colab": {
          "base_uri": "https://localhost:8080/",
          "height": 270
        },
        "id": "rgoaH4FDNsoa",
        "outputId": "4fdef5ff-07c4-419d-e64b-109edcef90c3"
      },
      "execution_count": 360,
      "outputs": [
        {
          "output_type": "execute_result",
          "data": {
            "text/html": [
              "\n",
              "  <div id=\"df-6465827c-ddda-46f2-93d9-d2d8fbd42fce\">\n",
              "    <div class=\"colab-df-container\">\n",
              "      <div>\n",
              "<style scoped>\n",
              "    .dataframe tbody tr th:only-of-type {\n",
              "        vertical-align: middle;\n",
              "    }\n",
              "\n",
              "    .dataframe tbody tr th {\n",
              "        vertical-align: top;\n",
              "    }\n",
              "\n",
              "    .dataframe thead th {\n",
              "        text-align: right;\n",
              "    }\n",
              "</style>\n",
              "<table border=\"1\" class=\"dataframe\">\n",
              "  <thead>\n",
              "    <tr style=\"text-align: right;\">\n",
              "      <th></th>\n",
              "      <th>Iteration1</th>\n",
              "      <th>Iteration2</th>\n",
              "      <th>Iteration3</th>\n",
              "      <th>Iteration4</th>\n",
              "      <th>Iteration5</th>\n",
              "      <th>Iteration6</th>\n",
              "      <th>Iteration7</th>\n",
              "      <th>Iteration8</th>\n",
              "      <th>Iteration9</th>\n",
              "      <th>Iteration10</th>\n",
              "      <th>Iteration11</th>\n",
              "      <th>Iteration12</th>\n",
              "      <th>Iteration13</th>\n",
              "      <th>Iteration14</th>\n",
              "      <th>Iteration15</th>\n",
              "      <th>Iteration16</th>\n",
              "      <th>Iteration17</th>\n",
              "      <th>Iteration18</th>\n",
              "      <th>Iteration19</th>\n",
              "      <th>Iteration20</th>\n",
              "      <th>utilisation</th>\n",
              "    </tr>\n",
              "  </thead>\n",
              "  <tbody>\n",
              "    <tr>\n",
              "      <th>1</th>\n",
              "      <td>95.0</td>\n",
              "      <td>95.0</td>\n",
              "      <td>97.0</td>\n",
              "      <td>90.0</td>\n",
              "      <td>90.0</td>\n",
              "      <td>93.0</td>\n",
              "      <td>90.0</td>\n",
              "      <td>90.0</td>\n",
              "      <td>95.0</td>\n",
              "      <td>91.0</td>\n",
              "      <td>93.0</td>\n",
              "      <td>99.0</td>\n",
              "      <td>100.0</td>\n",
              "      <td>100.0</td>\n",
              "      <td>92.0</td>\n",
              "      <td>97.0</td>\n",
              "      <td>94.0</td>\n",
              "      <td>91.0</td>\n",
              "      <td>92.0</td>\n",
              "      <td>93.0</td>\n",
              "      <td>1</td>\n",
              "    </tr>\n",
              "    <tr>\n",
              "      <th>2</th>\n",
              "      <td>13.4</td>\n",
              "      <td>13.4</td>\n",
              "      <td>13.4</td>\n",
              "      <td>13.4</td>\n",
              "      <td>13.4</td>\n",
              "      <td>13.4</td>\n",
              "      <td>13.4</td>\n",
              "      <td>13.4</td>\n",
              "      <td>13.4</td>\n",
              "      <td>13.4</td>\n",
              "      <td>13.4</td>\n",
              "      <td>13.4</td>\n",
              "      <td>13.4</td>\n",
              "      <td>13.4</td>\n",
              "      <td>13.4</td>\n",
              "      <td>13.4</td>\n",
              "      <td>13.4</td>\n",
              "      <td>13.4</td>\n",
              "      <td>13.4</td>\n",
              "      <td>13.4</td>\n",
              "      <td>-1</td>\n",
              "    </tr>\n",
              "    <tr>\n",
              "      <th>3</th>\n",
              "      <td>6.2</td>\n",
              "      <td>5.1</td>\n",
              "      <td>5.1</td>\n",
              "      <td>5.0</td>\n",
              "      <td>5.6</td>\n",
              "      <td>6.1</td>\n",
              "      <td>7.4</td>\n",
              "      <td>5.1</td>\n",
              "      <td>4.7</td>\n",
              "      <td>5.1</td>\n",
              "      <td>5.5</td>\n",
              "      <td>5.1</td>\n",
              "      <td>8.0</td>\n",
              "      <td>5.0</td>\n",
              "      <td>5.1</td>\n",
              "      <td>5.1</td>\n",
              "      <td>5.2</td>\n",
              "      <td>5.2</td>\n",
              "      <td>7.9</td>\n",
              "      <td>4.9</td>\n",
              "      <td>-1</td>\n",
              "    </tr>\n",
              "    <tr>\n",
              "      <th>5</th>\n",
              "      <td>100.0</td>\n",
              "      <td>100.0</td>\n",
              "      <td>100.0</td>\n",
              "      <td>100.0</td>\n",
              "      <td>100.0</td>\n",
              "      <td>100.0</td>\n",
              "      <td>100.0</td>\n",
              "      <td>100.0</td>\n",
              "      <td>100.0</td>\n",
              "      <td>100.0</td>\n",
              "      <td>100.0</td>\n",
              "      <td>100.0</td>\n",
              "      <td>100.0</td>\n",
              "      <td>100.0</td>\n",
              "      <td>100.0</td>\n",
              "      <td>100.0</td>\n",
              "      <td>100.0</td>\n",
              "      <td>100.0</td>\n",
              "      <td>100.0</td>\n",
              "      <td>100.0</td>\n",
              "      <td>1</td>\n",
              "    </tr>\n",
              "    <tr>\n",
              "      <th>6</th>\n",
              "      <td>36.0</td>\n",
              "      <td>50.0</td>\n",
              "      <td>49.0</td>\n",
              "      <td>52.0</td>\n",
              "      <td>37.0</td>\n",
              "      <td>37.0</td>\n",
              "      <td>40.0</td>\n",
              "      <td>53.0</td>\n",
              "      <td>37.0</td>\n",
              "      <td>54.0</td>\n",
              "      <td>64.0</td>\n",
              "      <td>55.0</td>\n",
              "      <td>44.0</td>\n",
              "      <td>51.0</td>\n",
              "      <td>59.0</td>\n",
              "      <td>56.0</td>\n",
              "      <td>59.0</td>\n",
              "      <td>37.0</td>\n",
              "      <td>62.0</td>\n",
              "      <td>36.0</td>\n",
              "      <td>0</td>\n",
              "    </tr>\n",
              "  </tbody>\n",
              "</table>\n",
              "</div>\n",
              "      <button class=\"colab-df-convert\" onclick=\"convertToInteractive('df-6465827c-ddda-46f2-93d9-d2d8fbd42fce')\"\n",
              "              title=\"Convert this dataframe to an interactive table.\"\n",
              "              style=\"display:none;\">\n",
              "        \n",
              "  <svg xmlns=\"http://www.w3.org/2000/svg\" height=\"24px\"viewBox=\"0 0 24 24\"\n",
              "       width=\"24px\">\n",
              "    <path d=\"M0 0h24v24H0V0z\" fill=\"none\"/>\n",
              "    <path d=\"M18.56 5.44l.94 2.06.94-2.06 2.06-.94-2.06-.94-.94-2.06-.94 2.06-2.06.94zm-11 1L8.5 8.5l.94-2.06 2.06-.94-2.06-.94L8.5 2.5l-.94 2.06-2.06.94zm10 10l.94 2.06.94-2.06 2.06-.94-2.06-.94-.94-2.06-.94 2.06-2.06.94z\"/><path d=\"M17.41 7.96l-1.37-1.37c-.4-.4-.92-.59-1.43-.59-.52 0-1.04.2-1.43.59L10.3 9.45l-7.72 7.72c-.78.78-.78 2.05 0 2.83L4 21.41c.39.39.9.59 1.41.59.51 0 1.02-.2 1.41-.59l7.78-7.78 2.81-2.81c.8-.78.8-2.07 0-2.86zM5.41 20L4 18.59l7.72-7.72 1.47 1.35L5.41 20z\"/>\n",
              "  </svg>\n",
              "      </button>\n",
              "      \n",
              "  <style>\n",
              "    .colab-df-container {\n",
              "      display:flex;\n",
              "      flex-wrap:wrap;\n",
              "      gap: 12px;\n",
              "    }\n",
              "\n",
              "    .colab-df-convert {\n",
              "      background-color: #E8F0FE;\n",
              "      border: none;\n",
              "      border-radius: 50%;\n",
              "      cursor: pointer;\n",
              "      display: none;\n",
              "      fill: #1967D2;\n",
              "      height: 32px;\n",
              "      padding: 0 0 0 0;\n",
              "      width: 32px;\n",
              "    }\n",
              "\n",
              "    .colab-df-convert:hover {\n",
              "      background-color: #E2EBFA;\n",
              "      box-shadow: 0px 1px 2px rgba(60, 64, 67, 0.3), 0px 1px 3px 1px rgba(60, 64, 67, 0.15);\n",
              "      fill: #174EA6;\n",
              "    }\n",
              "\n",
              "    [theme=dark] .colab-df-convert {\n",
              "      background-color: #3B4455;\n",
              "      fill: #D2E3FC;\n",
              "    }\n",
              "\n",
              "    [theme=dark] .colab-df-convert:hover {\n",
              "      background-color: #434B5C;\n",
              "      box-shadow: 0px 1px 3px 1px rgba(0, 0, 0, 0.15);\n",
              "      filter: drop-shadow(0px 1px 2px rgba(0, 0, 0, 0.3));\n",
              "      fill: #FFFFFF;\n",
              "    }\n",
              "  </style>\n",
              "\n",
              "      <script>\n",
              "        const buttonEl =\n",
              "          document.querySelector('#df-6465827c-ddda-46f2-93d9-d2d8fbd42fce button.colab-df-convert');\n",
              "        buttonEl.style.display =\n",
              "          google.colab.kernel.accessAllowed ? 'block' : 'none';\n",
              "\n",
              "        async function convertToInteractive(key) {\n",
              "          const element = document.querySelector('#df-6465827c-ddda-46f2-93d9-d2d8fbd42fce');\n",
              "          const dataTable =\n",
              "            await google.colab.kernel.invokeFunction('convertToInteractive',\n",
              "                                                     [key], {});\n",
              "          if (!dataTable) return;\n",
              "\n",
              "          const docLinkHtml = 'Like what you see? Visit the ' +\n",
              "            '<a target=\"_blank\" href=https://colab.research.google.com/notebooks/data_table.ipynb>data table notebook</a>'\n",
              "            + ' to learn more about interactive tables.';\n",
              "          element.innerHTML = '';\n",
              "          dataTable['output_type'] = 'display_data';\n",
              "          await google.colab.output.renderOutput(dataTable, element);\n",
              "          const docLink = document.createElement('div');\n",
              "          docLink.innerHTML = docLinkHtml;\n",
              "          element.appendChild(docLink);\n",
              "        }\n",
              "      </script>\n",
              "    </div>\n",
              "  </div>\n",
              "  "
            ],
            "text/plain": [
              "   Iteration1  Iteration2  Iteration3  ...  Iteration19  Iteration20  utilisation\n",
              "1        95.0        95.0        97.0  ...         92.0         93.0            1\n",
              "2        13.4        13.4        13.4  ...         13.4         13.4           -1\n",
              "3         6.2         5.1         5.1  ...          7.9          4.9           -1\n",
              "5       100.0       100.0       100.0  ...        100.0        100.0            1\n",
              "6        36.0        50.0        49.0  ...         62.0         36.0            0\n",
              "\n",
              "[5 rows x 21 columns]"
            ]
          },
          "metadata": {},
          "execution_count": 360
        }
      ]
    },
    {
      "cell_type": "code",
      "source": [
        "X = df.drop(\"utilisation\", axis=1)\n",
        "y = df[\"utilisation\"]"
      ],
      "metadata": {
        "id": "ZTKY3AeNoNty"
      },
      "execution_count": 361,
      "outputs": []
    },
    {
      "cell_type": "code",
      "source": [
        "X_train, X_test, y_train, y_test = train_test_split(X, y, test_size=0.33, random_state=1)"
      ],
      "metadata": {
        "id": "-vHCHm23oNfd"
      },
      "execution_count": 362,
      "outputs": []
    },
    {
      "cell_type": "markdown",
      "source": [
        "### MODEL FITTINGS"
      ],
      "metadata": {
        "id": "9azef2y0zfB4"
      }
    },
    {
      "cell_type": "code",
      "source": [
        "logmodel = LogisticRegression(max_iter=6000)\n",
        "logmodel.fit(X_train, y_train)"
      ],
      "metadata": {
        "colab": {
          "base_uri": "https://localhost:8080/"
        },
        "id": "YPR6j_kuoNR0",
        "outputId": "7c4b3c67-5fb3-4098-d769-495e7fd5ee97"
      },
      "execution_count": 363,
      "outputs": [
        {
          "output_type": "execute_result",
          "data": {
            "text/plain": [
              "LogisticRegression(max_iter=6000)"
            ]
          },
          "metadata": {},
          "execution_count": 363
        }
      ]
    },
    {
      "cell_type": "code",
      "source": [
        "predictions = logmodel.predict(X_test)"
      ],
      "metadata": {
        "id": "k7DL9cKioNNA"
      },
      "execution_count": 364,
      "outputs": []
    },
    {
      "cell_type": "code",
      "source": [
        "print(classification_report(y_test, predictions))"
      ],
      "metadata": {
        "colab": {
          "base_uri": "https://localhost:8080/"
        },
        "id": "2SPk_JUtoNIb",
        "outputId": "ea2806e2-269b-4827-8465-e739a1621ad9"
      },
      "execution_count": 365,
      "outputs": [
        {
          "output_type": "stream",
          "name": "stdout",
          "text": [
            "              precision    recall  f1-score   support\n",
            "\n",
            "          -1       0.93      0.91      0.92       815\n",
            "           0       0.91      0.96      0.93      1304\n",
            "           1       0.92      0.84      0.88       552\n",
            "\n",
            "    accuracy                           0.92      2671\n",
            "   macro avg       0.92      0.90      0.91      2671\n",
            "weighted avg       0.92      0.92      0.92      2671\n",
            "\n"
          ]
        }
      ]
    },
    {
      "cell_type": "code",
      "source": [
        "confusion_matrix(y_test, predictions)"
      ],
      "metadata": {
        "colab": {
          "base_uri": "https://localhost:8080/"
        },
        "id": "UKH808QzoNDy",
        "outputId": "c63e47d0-cbef-4a76-ab2b-63a8d532243b"
      },
      "execution_count": 366,
      "outputs": [
        {
          "output_type": "execute_result",
          "data": {
            "text/plain": [
              "array([[ 742,   60,   13],\n",
              "       [  29, 1247,   28],\n",
              "       [  28,   62,  462]])"
            ]
          },
          "metadata": {},
          "execution_count": 366
        }
      ]
    },
    {
      "cell_type": "markdown",
      "source": [
        "# || Accuracy CHECK ||"
      ],
      "metadata": {
        "id": "pjSIfjDkvS3N"
      }
    },
    {
      "cell_type": "code",
      "source": [
        "from sklearn.metrics import accuracy_score\n",
        "accuracy_score(y_test, predictions)"
      ],
      "metadata": {
        "colab": {
          "base_uri": "https://localhost:8080/"
        },
        "id": "dOSPLi45oM-V",
        "outputId": "8203bd13-fb47-4c6d-a15f-3ffa01cb1abb"
      },
      "execution_count": 367,
      "outputs": [
        {
          "output_type": "execute_result",
          "data": {
            "text/plain": [
              "0.917633845001872"
            ]
          },
          "metadata": {},
          "execution_count": 367
        }
      ]
    },
    {
      "cell_type": "code",
      "source": [
        ""
      ],
      "metadata": {
        "id": "D_-xeZ3aoM3h"
      },
      "execution_count": 367,
      "outputs": []
    },
    {
      "cell_type": "code",
      "source": [
        ""
      ],
      "metadata": {
        "id": "E9oHCPPPoMtr"
      },
      "execution_count": 367,
      "outputs": []
    }
  ]
}